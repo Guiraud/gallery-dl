{
 "cells": [
  {
   "cell_type": "markdown",
   "metadata": {},
   "source": [
    "# Analyse d'un hashtag X.com\n",
    "\n",
    "Ce notebook exploite les sorties `gallery-dl --dump-json` ou `--write-metadata` pour explorer un hashtag."
   ]
  },
  {
   "cell_type": "markdown",
   "metadata": {},
   "source": [
    "## Pré-requis\n",
    "\n",
    "```bash\n",
    "python3 -m venv .venv\n",
    "source .venv/bin/activate\n",
    "pip install -r requirements-analysis.txt\n",
    "```\n",
    "\n",
    "`requirements-analysis.txt` peut inclure : `pandas numpy matplotlib seaborn scikit-learn networkx scipy tqdm ipywidgets plotly umap-learn`.\n",
    "\n",
    "Télécharge les données :\n",
    "```bash\n",
    "gallery-dl --cookies-from-browser firefox/x.com --dump-json \"https://x.com/search?q=%23PlusJamaisPs&src=typed_query&f=live\" > plusjamaisps.jsonl\n",
    "```\n"
   ]
  },
  {
   "cell_type": "code",
   "execution_count": 10,
   "id": "32b45ee8",
   "metadata": {},
   "outputs": [
    {
     "name": "stdout",
     "output_type": "stream",
     "text": [
      "Requirement already satisfied: numpy in /Users/mguiraud/Documents/gitlab/gallery-dl/.venv/lib/python3.12/site-packages (2.3.4)\n",
      "Requirement already satisfied: pandas in /Users/mguiraud/Documents/gitlab/gallery-dl/.venv/lib/python3.12/site-packages (2.3.3)\n",
      "Requirement already satisfied: seaborn in /Users/mguiraud/Documents/gitlab/gallery-dl/.venv/lib/python3.12/site-packages (0.13.2)\n",
      "Requirement already satisfied: matplotlib in /Users/mguiraud/Documents/gitlab/gallery-dl/.venv/lib/python3.12/site-packages (3.10.7)\n",
      "Requirement already satisfied: tqdm in /Users/mguiraud/Documents/gitlab/gallery-dl/.venv/lib/python3.12/site-packages (4.67.1)\n",
      "Requirement already satisfied: python-dateutil>=2.8.2 in /Users/mguiraud/Documents/gitlab/gallery-dl/.venv/lib/python3.12/site-packages (from pandas) (2.9.0.post0)\n",
      "Requirement already satisfied: pytz>=2020.1 in /Users/mguiraud/Documents/gitlab/gallery-dl/.venv/lib/python3.12/site-packages (from pandas) (2025.2)\n",
      "Requirement already satisfied: tzdata>=2022.7 in /Users/mguiraud/Documents/gitlab/gallery-dl/.venv/lib/python3.12/site-packages (from pandas) (2025.2)\n",
      "Requirement already satisfied: contourpy>=1.0.1 in /Users/mguiraud/Documents/gitlab/gallery-dl/.venv/lib/python3.12/site-packages (from matplotlib) (1.3.3)\n",
      "Requirement already satisfied: cycler>=0.10 in /Users/mguiraud/Documents/gitlab/gallery-dl/.venv/lib/python3.12/site-packages (from matplotlib) (0.12.1)\n",
      "Requirement already satisfied: fonttools>=4.22.0 in /Users/mguiraud/Documents/gitlab/gallery-dl/.venv/lib/python3.12/site-packages (from matplotlib) (4.60.1)\n",
      "Requirement already satisfied: kiwisolver>=1.3.1 in /Users/mguiraud/Documents/gitlab/gallery-dl/.venv/lib/python3.12/site-packages (from matplotlib) (1.4.9)\n",
      "Requirement already satisfied: packaging>=20.0 in /Users/mguiraud/Documents/gitlab/gallery-dl/.venv/lib/python3.12/site-packages (from matplotlib) (25.0)\n",
      "Requirement already satisfied: pillow>=8 in /Users/mguiraud/Documents/gitlab/gallery-dl/.venv/lib/python3.12/site-packages (from matplotlib) (12.0.0)\n",
      "Requirement already satisfied: pyparsing>=3 in /Users/mguiraud/Documents/gitlab/gallery-dl/.venv/lib/python3.12/site-packages (from matplotlib) (3.2.5)\n",
      "Requirement already satisfied: six>=1.5 in /Users/mguiraud/Documents/gitlab/gallery-dl/.venv/lib/python3.12/site-packages (from python-dateutil>=2.8.2->pandas) (1.17.0)\n",
      "Note: you may need to restart the kernel to use updated packages.\n"
     ]
    }
   ],
   "source": [
    "%config InlineBackend.figure_format = 'retina'\n",
    "%pip install numpy pandas seaborn matplotlib tqdm\n",
    "import json\n",
    "from pathlib import Path\n",
    "\n",
    "import numpy as np\n",
    "import pandas as pd\n",
    "import seaborn as sns\n",
    "import matplotlib.pyplot as plt\n",
    "from matplotlib.dates import DateFormatter\n",
    "from tqdm.auto import tqdm\n",
    "\n",
    "sns.set_theme(style='whitegrid')\n",
    "\n",
    "DATA_PATH = Path('..')\n",
    "JSONL_FILE = DATA_PATH / 'plusjamaisps.jsonl'"
   ]
  },
  {
   "cell_type": "code",
   "execution_count": 11,
   "id": "c5c972b2",
   "metadata": {},
   "outputs": [
    {
     "name": "stdout",
     "output_type": "stream",
     "text": [
      "(0, 0)\n"
     ]
    },
    {
     "data": {
      "text/html": [
       "<div>\n",
       "<style scoped>\n",
       "    .dataframe tbody tr th:only-of-type {\n",
       "        vertical-align: middle;\n",
       "    }\n",
       "\n",
       "    .dataframe tbody tr th {\n",
       "        vertical-align: top;\n",
       "    }\n",
       "\n",
       "    .dataframe thead th {\n",
       "        text-align: right;\n",
       "    }\n",
       "</style>\n",
       "<table border=\"1\" class=\"dataframe\">\n",
       "  <thead>\n",
       "    <tr style=\"text-align: right;\">\n",
       "      <th></th>\n",
       "    </tr>\n",
       "  </thead>\n",
       "  <tbody>\n",
       "  </tbody>\n",
       "</table>\n",
       "</div>"
      ],
      "text/plain": [
       "Empty DataFrame\n",
       "Columns: []\n",
       "Index: []"
      ]
     },
     "execution_count": 11,
     "metadata": {},
     "output_type": "execute_result"
    }
   ],
   "source": [
    "def load_jsonl(path: Path) -> pd.DataFrame:\n",
    "    records = []\n",
    "    with path.open('r', encoding='utf-8') as handle:\n",
    "        for line in handle:\n",
    "            line = line.strip()\n",
    "            if not line or line.startswith('['):\n",
    "                continue\n",
    "            try:\n",
    "                data = json.loads(line)\n",
    "            except json.JSONDecodeError:\n",
    "                continue\n",
    "            if isinstance(data, dict) and data.get('category') == 'twitter':\n",
    "                records.append(data)\n",
    "    return pd.DataFrame(records)\n",
    "\n",
    "df = load_jsonl(JSONL_FILE)\n",
    "print(df.shape)\n",
    "df.head()"
   ]
  },
  {
   "cell_type": "code",
   "execution_count": 12,
   "id": "6424da13",
   "metadata": {},
   "outputs": [
    {
     "name": "stdout",
     "output_type": "stream",
     "text": [
      "<class 'pandas.core.frame.DataFrame'>\n",
      "RangeIndex: 0 entries\n",
      "Data columns (total 8 columns):\n",
      " #   Column      Non-Null Count  Dtype              \n",
      "---  ------      --------------  -----              \n",
      " 0   tweet_id    0 non-null      object             \n",
      " 1   author      0 non-null      object             \n",
      " 2   content     0 non-null      object             \n",
      " 3   created_at  0 non-null      datetime64[ns, UTC]\n",
      " 4   hashtags    0 non-null      object             \n",
      " 5   mentions    0 non-null      object             \n",
      " 6   url_count   0 non-null      object             \n",
      " 7   has_media   0 non-null      bool               \n",
      "dtypes: bool(1), datetime64[ns, UTC](1), object(6)\n",
      "memory usage: 132.0+ bytes\n"
     ]
    }
   ],
   "source": [
    "def prepare_dataframe(df: pd.DataFrame) -> pd.DataFrame:\n",
    "    df = df.copy()\n",
    "\n",
    "    def coalesce_series(options, fallback=None):\n",
    "        for col in options:\n",
    "            if col in df.columns:\n",
    "                return df[col]\n",
    "        return fallback() if callable(fallback) else fallback\n",
    "\n",
    "    def empty_series(fill_value=None):\n",
    "        if len(df) == 0:\n",
    "            return pd.Series(dtype=object)\n",
    "        if callable(fill_value):\n",
    "            data = [fill_value() for _ in range(len(df))]\n",
    "        else:\n",
    "            data = [fill_value] * len(df)\n",
    "        return pd.Series(data, index=df.index)\n",
    "\n",
    "    df['tweet_id'] = coalesce_series(['tweet_id', 'tweetid', 'id'], fallback=lambda: empty_series())\n",
    "\n",
    "    author_series = coalesce_series(['author', 'user', 'user_data'], fallback=lambda: empty_series())\n",
    "    df['author'] = author_series.apply(lambda x: x.get('name') if isinstance(x, dict) else x)\n",
    "\n",
    "    df['content'] = coalesce_series(['content', 'text'], fallback=lambda: empty_series(''))\n",
    "\n",
    "    date_series = coalesce_series(['date', 'created_at'], fallback=lambda: empty_series())\n",
    "    df['created_at'] = pd.to_datetime(date_series, utc=True, errors='coerce')\n",
    "\n",
    "    hashtags_series = coalesce_series(['hashtags'], fallback=lambda: empty_series(lambda: []))\n",
    "    df['hashtags'] = hashtags_series.apply(lambda x: x if isinstance(x, list) else [])\n",
    "\n",
    "    mentions_series = coalesce_series(['mentions'], fallback=lambda: empty_series(lambda: []))\n",
    "    df['mentions'] = mentions_series.apply(lambda x: x if isinstance(x, list) else [])\n",
    "\n",
    "    urls_series = coalesce_series(['urls'], fallback=lambda: empty_series(lambda: []))\n",
    "    df['url_count'] = urls_series.apply(lambda x: len(x) if isinstance(x, list) else 0)\n",
    "\n",
    "    media_counts = coalesce_series(['count', 'media_count', 'attachments'], fallback=lambda: empty_series(0))\n",
    "    df['has_media'] = media_counts.fillna(0).astype(int) > 0\n",
    "\n",
    "    return df\n",
    "\n",
    "df = prepare_dataframe(df)\n",
    "df.info()\n"
   ]
  },
  {
   "cell_type": "code",
   "execution_count": 13,
   "metadata": {},
   "outputs": [],
   "source": [
    "def plot_time_series(df: pd.DataFrame, freq: str = '15min'):\n",
    "    ts = df.set_index('created_at').resample(freq)['tweet_id'].count()\n",
    "    fig, ax = plt.subplots(figsize=(12, 4))\n",
    "    ts.plot(ax=ax)\n",
    "    ax.set_title(f'Nombre de tweets par {freq}')\n",
    "    ax.set_ylabel('Tweets')\n",
    "    ax.set_xlabel('Temps')\n",
    "    ax.xaxis.set_major_formatter(DateFormatter('%Y-%m-%d %H:%M'))\n",
    "    plt.xticks(rotation=45)\n",
    "    plt.tight_layout()\n",
    "    plt.show()\n",
    "\n",
    "if not df.empty:\n",
    "    plot_time_series(df)"
   ]
  },
  {
   "cell_type": "code",
   "execution_count": 14,
   "metadata": {},
   "outputs": [],
   "source": [
    "def burstiness(inter_times: np.ndarray) -> float:\n",
    "    mu = np.mean(inter_times)\n",
    "    sigma = np.std(inter_times)\n",
    "    return (sigma - mu) / (sigma + mu) if mu + sigma else 0.0\n",
    "\n",
    "timestamps = df['created_at'].sort_values().astype('int64') // 10**9\n",
    "inter_times = np.diff(timestamps)\n",
    "if len(inter_times):\n",
    "    print('Indice de burstiness global:', burstiness(inter_times))"
   ]
  },
  {
   "cell_type": "code",
   "execution_count": 15,
   "metadata": {},
   "outputs": [],
   "source": [
    "top_accounts = (df.groupby('author')['tweet_id'].count().sort_values(ascending=False).head(20))\n",
    "if not top_accounts.empty:\n",
    "    plt.figure(figsize=(8, 6))\n",
    "    sns.barplot(y=top_accounts.index, x=top_accounts.values, palette='viridis')\n",
    "    plt.title('Top 20 comptes les plus actifs')\n",
    "    plt.xlabel('Tweets')\n",
    "    plt.ylabel('Compte')\n",
    "    plt.tight_layout()\n",
    "    plt.show()"
   ]
  },
  {
   "cell_type": "code",
   "execution_count": 16,
   "metadata": {},
   "outputs": [
    {
     "name": "stdout",
     "output_type": "stream",
     "text": [
      "Requirement already satisfied: scikit-learn in /Users/mguiraud/Documents/gitlab/gallery-dl/.venv/lib/python3.12/site-packages (1.7.2)\n",
      "Requirement already satisfied: numpy>=1.22.0 in /Users/mguiraud/Documents/gitlab/gallery-dl/.venv/lib/python3.12/site-packages (from scikit-learn) (2.3.4)\n",
      "Requirement already satisfied: scipy>=1.8.0 in /Users/mguiraud/Documents/gitlab/gallery-dl/.venv/lib/python3.12/site-packages (from scikit-learn) (1.16.2)\n",
      "Requirement already satisfied: joblib>=1.2.0 in /Users/mguiraud/Documents/gitlab/gallery-dl/.venv/lib/python3.12/site-packages (from scikit-learn) (1.5.2)\n",
      "Requirement already satisfied: threadpoolctl>=3.1.0 in /Users/mguiraud/Documents/gitlab/gallery-dl/.venv/lib/python3.12/site-packages (from scikit-learn) (3.6.0)\n",
      "Note: you may need to restart the kernel to use updated packages.\n"
     ]
    }
   ],
   "source": [
    "%pip install scikit-learn\n",
    "from sklearn.feature_extraction.text import TfidfVectorizer\n",
    "from sklearn.metrics.pairwise import cosine_similarity\n",
    "content = df['content'].fillna('')\n",
    "if len(content):\n",
    "    tfidf = TfidfVectorizer(min_df=2, ngram_range=(1, 2))\n",
    "    X = tfidf.fit_transform(content)\n",
    "    similarity_matrix = cosine_similarity(X)\n",
    "    df['similarity_hits'] = (similarity_matrix > 0.9).sum(axis=1)\n",
    "    display(df.sort_values('similarity_hits', ascending=False).head(10)[['tweet_id','author','similarity_hits','content']])"
   ]
  },
  {
   "cell_type": "code",
   "execution_count": 17,
   "metadata": {},
   "outputs": [],
   "source": [
    "from collections import Counter\n",
    "hashtags = [tag.lower() for tags in df['hashtags'] for tag in (tags or [])]\n",
    "if hashtags:\n",
    "    display(pd.Series(Counter(hashtags)).sort_values(ascending=False).head(20))"
   ]
  },
  {
   "cell_type": "code",
   "execution_count": 18,
   "metadata": {},
   "outputs": [
    {
     "name": "stdout",
     "output_type": "stream",
     "text": [
      "Requirement already satisfied: networkx in /Users/mguiraud/Documents/gitlab/gallery-dl/.venv/lib/python3.12/site-packages (3.5)\n",
      "Note: you may need to restart the kernel to use updated packages.\n",
      "0 nodes 0 edges\n"
     ]
    }
   ],
   "source": [
    "%pip install networkx\n",
    "import networkx as nx\n",
    "G = nx.DiGraph()\n",
    "for _, row in df.iterrows():\n",
    "    author = row['author']\n",
    "    for mention in row.get('mentions') or []:\n",
    "        target = mention.get('name') if isinstance(mention, dict) else mention\n",
    "        if author and target:\n",
    "            G.add_edge(author, target)\n",
    "print(nx.number_of_nodes(G), 'nodes', nx.number_of_edges(G), 'edges')"
   ]
  },
  {
   "cell_type": "markdown",
   "metadata": {},
   "source": [
    "## Checklist inspirée de la littérature\n",
    "- synchronisation temporelle\n",
    "- homogénéité du contenu\n",
    "- densité du graphe retweet/mention\n",
    "- âge des comptes\n",
    "- cadence automatisée (burstiness)\n",
    "- amplification (retweets rapides)\n",
    "- hashtags récurrents\n",
    "- source d'API suspecte"
   ]
  }
 ],
 "metadata": {
  "kernelspec": {
   "display_name": ".venv",
   "language": "python",
   "name": "python3"
  },
  "language_info": {
   "codemirror_mode": {
    "name": "ipython",
    "version": 3
   },
   "file_extension": ".py",
   "mimetype": "text/x-python",
   "name": "python",
   "nbconvert_exporter": "python",
   "pygments_lexer": "ipython3",
   "version": "3.12.2"
  }
 },
 "nbformat": 4,
 "nbformat_minor": 5
}
